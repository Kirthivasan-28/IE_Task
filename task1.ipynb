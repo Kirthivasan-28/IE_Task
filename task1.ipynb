{
 "cells": [
  {
   "cell_type": "code",
   "execution_count": 51,
   "metadata": {},
   "outputs": [],
   "source": [
    "import pandas as pd"
   ]
  },
  {
   "cell_type": "code",
   "execution_count": 52,
   "metadata": {},
   "outputs": [],
   "source": [
    "df = pd.read_excel(r'SAMPLE-TEST-FILE.xlsx',sheet_name='TEST-SAMPLES')"
   ]
  },
  {
   "cell_type": "markdown",
   "metadata": {},
   "source": [
    "#### Segregating of FirstName , LastName and Title from fullName"
   ]
  },
  {
   "cell_type": "code",
   "execution_count": 53,
   "metadata": {},
   "outputs": [
    {
     "name": "stderr",
     "output_type": "stream",
     "text": [
      "C:\\Users\\Kirthi\\AppData\\Local\\Temp/ipykernel_12916/731895283.py:10: SettingWithCopyWarning: \n",
      "A value is trying to be set on a copy of a slice from a DataFrame\n",
      "\n",
      "See the caveats in the documentation: https://pandas.pydata.org/pandas-docs/stable/user_guide/indexing.html#returning-a-view-versus-a-copy\n",
      "  df['First Name'][i] = firstname\n",
      "C:\\Users\\Kirthi\\AppData\\Local\\Temp/ipykernel_12916/731895283.py:11: SettingWithCopyWarning: \n",
      "A value is trying to be set on a copy of a slice from a DataFrame\n",
      "\n",
      "See the caveats in the documentation: https://pandas.pydata.org/pandas-docs/stable/user_guide/indexing.html#returning-a-view-versus-a-copy\n",
      "  df['Last Name'][i] = lastname\n",
      "C:\\Users\\Kirthi\\AppData\\Local\\Temp/ipykernel_12916/731895283.py:6: SettingWithCopyWarning: \n",
      "A value is trying to be set on a copy of a slice from a DataFrame\n",
      "\n",
      "See the caveats in the documentation: https://pandas.pydata.org/pandas-docs/stable/user_guide/indexing.html#returning-a-view-versus-a-copy\n",
      "  df['Title'][i] = profession\n"
     ]
    }
   ],
   "source": [
    "fullname= ''\n",
    "profession = ''\n",
    "for i,rows in enumerate(df['Full Name']):\n",
    "    if '|' in rows:\n",
    "        fullname,profession=df['Full Name'][i].split('|')\n",
    "        df['Title'][i] = profession\n",
    "    else:\n",
    "        fullname = df['Full Name'][i]\n",
    "    firstname , lastname = fullname.split(' ')[:2]\n",
    "    df['First Name'][i] = firstname\n",
    "    df['Last Name'][i] = lastname\n",
    "    "
   ]
  },
  {
   "cell_type": "markdown",
   "metadata": {},
   "source": [
    "#### Email Status"
   ]
  },
  {
   "cell_type": "code",
   "execution_count": 54,
   "metadata": {},
   "outputs": [
    {
     "name": "stderr",
     "output_type": "stream",
     "text": [
      "C:\\Users\\Kirthi\\AppData\\Local\\Temp/ipykernel_12916/3200720731.py:8: SettingWithCopyWarning: \n",
      "A value is trying to be set on a copy of a slice from a DataFrame\n",
      "\n",
      "See the caveats in the documentation: https://pandas.pydata.org/pandas-docs/stable/user_guide/indexing.html#returning-a-view-versus-a-copy\n",
      "  df['Email STATUS'][i] = 'VALID-Company Email'\n",
      "C:\\Users\\Kirthi\\AppData\\Local\\Temp/ipykernel_12916/3200720731.py:10: SettingWithCopyWarning: \n",
      "A value is trying to be set on a copy of a slice from a DataFrame\n",
      "\n",
      "See the caveats in the documentation: https://pandas.pydata.org/pandas-docs/stable/user_guide/indexing.html#returning-a-view-versus-a-copy\n",
      "  df['Email STATUS'][i] = 'INVALID-Email'\n",
      "C:\\Users\\Kirthi\\AppData\\Local\\Temp/ipykernel_12916/3200720731.py:6: SettingWithCopyWarning: \n",
      "A value is trying to be set on a copy of a slice from a DataFrame\n",
      "\n",
      "See the caveats in the documentation: https://pandas.pydata.org/pandas-docs/stable/user_guide/indexing.html#returning-a-view-versus-a-copy\n",
      "  df['Email STATUS'][i] = 'VALID-General Email'\n"
     ]
    }
   ],
   "source": [
    "df['Company Email'] = df['Company Email'].fillna(' ')\n",
    "for i,rows in enumerate(df['Company Email']):\n",
    "    rows = rows.lower()\n",
    "    if '@' in rows:\n",
    "        if 'gmail' in rows or 'yahoo' in rows or 'hotmail' in rows:\n",
    "            df['Email STATUS'][i] = 'VALID-General Email'\n",
    "        else:\n",
    "            df['Email STATUS'][i] = 'VALID-Company Email'\n",
    "    else:\n",
    "        df['Email STATUS'][i] = 'INVALID-Email'"
   ]
  },
  {
   "cell_type": "markdown",
   "metadata": {},
   "source": [
    "#### Address    "
   ]
  },
  {
   "cell_type": "code",
   "execution_count": 55,
   "metadata": {},
   "outputs": [
    {
     "name": "stderr",
     "output_type": "stream",
     "text": [
      "C:\\Users\\Kirthi\\AppData\\Local\\Temp/ipykernel_12916/3768926365.py:7: SettingWithCopyWarning: \n",
      "A value is trying to be set on a copy of a slice from a DataFrame\n",
      "\n",
      "See the caveats in the documentation: https://pandas.pydata.org/pandas-docs/stable/user_guide/indexing.html#returning-a-view-versus-a-copy\n",
      "  df['Street'][i]=street\n",
      "C:\\Users\\Kirthi\\AppData\\Local\\Temp/ipykernel_12916/3768926365.py:8: SettingWithCopyWarning: \n",
      "A value is trying to be set on a copy of a slice from a DataFrame\n",
      "\n",
      "See the caveats in the documentation: https://pandas.pydata.org/pandas-docs/stable/user_guide/indexing.html#returning-a-view-versus-a-copy\n",
      "  df['City'][i]=city\n",
      "C:\\Users\\Kirthi\\AppData\\Local\\Temp/ipykernel_12916/3768926365.py:9: SettingWithCopyWarning: \n",
      "A value is trying to be set on a copy of a slice from a DataFrame\n",
      "\n",
      "See the caveats in the documentation: https://pandas.pydata.org/pandas-docs/stable/user_guide/indexing.html#returning-a-view-versus-a-copy\n",
      "  df['State'][i]=state\n"
     ]
    }
   ],
   "source": [
    "street=''\n",
    "city=''\n",
    "state=''\n",
    "for i,rows in enumerate(df['ADDRESS']):\n",
    "    if '|' in rows:\n",
    "        street,city,state=df['ADDRESS'][i].split('|')\n",
    "        df['Street'][i]=street\n",
    "        df['City'][i]=city\n",
    "        df['State'][i]=state\n"
   ]
  },
  {
   "cell_type": "markdown",
   "metadata": {},
   "source": [
    "###Mobile Contact Number"
   ]
  },
  {
   "cell_type": "code",
   "execution_count": 56,
   "metadata": {},
   "outputs": [
    {
     "name": "stderr",
     "output_type": "stream",
     "text": [
      "C:\\Users\\Kirthi\\AppData\\Local\\Temp/ipykernel_12916/4221808008.py:12: SettingWithCopyWarning: \n",
      "A value is trying to be set on a copy of a slice from a DataFrame\n",
      "\n",
      "See the caveats in the documentation: https://pandas.pydata.org/pandas-docs/stable/user_guide/indexing.html#returning-a-view-versus-a-copy\n",
      "  df['Work Phone format'][i]=remain+start+mid+last\n",
      "C:\\Users\\Kirthi\\AppData\\Local\\Temp/ipykernel_12916/4221808008.py:15: SettingWithCopyWarning: \n",
      "A value is trying to be set on a copy of a slice from a DataFrame\n",
      "\n",
      "See the caveats in the documentation: https://pandas.pydata.org/pandas-docs/stable/user_guide/indexing.html#returning-a-view-versus-a-copy\n",
      "  df['Work Phone format'][i] = 'INVALID-Number'\n"
     ]
    },
    {
     "name": "stdout",
     "output_type": "stream",
     "text": [
      "61892153000\n",
      "4342622644\n",
      "Invalid Number 43/L5123316\n",
      "7137941247\n",
      "4084573900\n",
      "8582028500\n",
      "8047942998\n",
      "8003262966\n",
      "61894553599\n",
      "7138370311\n",
      "9546444000\n",
      "49892070051760\n",
      "49892070051760\n",
      "497116290045\n",
      "49928172583000\n",
      "61894803500\n",
      "Invalid Number AA3032383838\n",
      "Invalid Number 70346RH33300\n",
      "31390270060611\n",
      "31402698111\n",
      "31497582500\n",
      "31418784000\n",
      "39243881\n",
      "61406143459\n",
      "8004951871\n",
      "8889997713\n",
      "Invalid Number 61AM297826031\n",
      "61297840200\n",
      "61298803200\n",
      "61731885445\n"
     ]
    }
   ],
   "source": [
    "for i,rows in enumerate(df['Work Phone']):\n",
    "    if str(rows).isnumeric() or ' ' in rows or '-' in rows:\n",
    "        rows=str(rows).replace(' ','')\n",
    "        rows=str(rows).replace('-','')\n",
    "        rows=str(rows).replace('(','')\n",
    "        rows=str(rows).replace(')','')\n",
    "        last=' ('+rows[-4:]+')'\n",
    "        mid=' ('+rows[-7:-4]+')'\n",
    "        start=' ('+rows[-10:-7]+')'\n",
    "        remain=rows[:-10]\n",
    "        print(rows)\n",
    "        df['Work Phone format'][i]=remain+start+mid+last\n",
    "    else:\n",
    "        print('Invalid Number',rows)\n",
    "        df['Work Phone format'][i] = 'INVALID-Number'"
   ]
  },
  {
   "cell_type": "code",
   "execution_count": 57,
   "metadata": {},
   "outputs": [],
   "source": [
    "df.to_excel('test1.xlsx',index=False)"
   ]
  },
  {
   "cell_type": "code",
   "execution_count": null,
   "metadata": {},
   "outputs": [],
   "source": []
  }
 ],
 "metadata": {
  "interpreter": {
   "hash": "98a2f316e33c066f99d66de7bc7eb849cd117e138078d7d330ffc2c8bc5b01d4"
  },
  "kernelspec": {
   "display_name": "Python 3.8.3",
   "language": "python",
   "name": "python3"
  },
  "language_info": {
   "codemirror_mode": {
    "name": "ipython",
    "version": 3
   },
   "file_extension": ".py",
   "mimetype": "text/x-python",
   "name": "python",
   "nbconvert_exporter": "python",
   "pygments_lexer": "ipython3",
   "version": "3.8.7"
  },
  "orig_nbformat": 4
 },
 "nbformat": 4,
 "nbformat_minor": 2
}
